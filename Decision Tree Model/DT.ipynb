{
 "cells": [
  {
   "cell_type": "code",
   "execution_count": 1,
   "metadata": {},
   "outputs": [],
   "source": [
    "import pandas as pd\n",
    "import numpy as np\n",
    "import io"
   ]
  },
  {
   "cell_type": "code",
   "execution_count": 2,
   "metadata": {},
   "outputs": [
    {
     "name": "stdout",
     "output_type": "stream",
     "text": [
      "   Unnamed: 0                tmsp  country  amount  success         PSP  \\\n",
      "0           0 2019-01-01 00:01:11  Germany      89        0     UK_Card   \n",
      "1           1 2019-01-01 00:01:17  Germany      89        1     UK_Card   \n",
      "2           2 2019-01-01 00:02:49  Germany     238        0     UK_Card   \n",
      "3           3 2019-01-01 00:03:13  Germany     238        1     UK_Card   \n",
      "4           4 2019-01-01 00:04:33  Austria     124        0  Simplecard   \n",
      "\n",
      "   3D_secured    card  \n",
      "0           0    Visa  \n",
      "1           0    Visa  \n",
      "2           1  Diners  \n",
      "3           1  Diners  \n",
      "4           0  Diners  \n"
     ]
    }
   ],
   "source": [
    "# Read the Excel file into a DataFrame\n",
    "df = pd.read_excel(r\"/home/samyak/PycharmProjects/Python_Learn /Decision Tree Model/DataSet/PSP_Jan_Feb_2019.xlsx\")\n",
    "\n",
    "# Display the DataFrame\n",
    "print(df.head())"
   ]
  },
  {
   "cell_type": "code",
   "execution_count": 3,
   "metadata": {},
   "outputs": [
    {
     "name": "stdout",
     "output_type": "stream",
     "text": [
      "Index(['Unnamed: 0', 'tmsp', 'country', 'amount', 'success', 'PSP',\n",
      "       '3D_secured', 'card'],\n",
      "      dtype='object')\n"
     ]
    }
   ],
   "source": [
    "print(df.columns)"
   ]
  },
  {
   "cell_type": "code",
   "execution_count": 4,
   "metadata": {},
   "outputs": [],
   "source": [
    "missing_values= df.isnull().sum()"
   ]
  },
  {
   "cell_type": "code",
   "execution_count": 5,
   "metadata": {},
   "outputs": [
    {
     "name": "stdout",
     "output_type": "stream",
     "text": [
      "The dataframe has 8 rows with missing values.\n"
     ]
    }
   ],
   "source": [
    "missing_data =pd.DataFrame({\n",
    "    'Missing Values': missing_values,\n",
    "    #'Percentage Missing Value': Percentage_missing_value\n",
    "})\n",
    "print(f\"The dataframe has {len(missing_values)} rows with missing values.\")"
   ]
  },
  {
   "cell_type": "code",
   "execution_count": null,
   "metadata": {},
   "outputs": [],
   "source": []
  },
  {
   "cell_type": "code",
   "execution_count": null,
   "metadata": {},
   "outputs": [],
   "source": []
  }
 ],
 "metadata": {
  "kernelspec": {
   "display_name": "venv",
   "language": "python",
   "name": "python3"
  },
  "language_info": {
   "codemirror_mode": {
    "name": "ipython",
    "version": 3
   },
   "file_extension": ".py",
   "mimetype": "text/x-python",
   "name": "python",
   "nbconvert_exporter": "python",
   "pygments_lexer": "ipython3",
   "version": "3.11.6"
  }
 },
 "nbformat": 4,
 "nbformat_minor": 2
}
